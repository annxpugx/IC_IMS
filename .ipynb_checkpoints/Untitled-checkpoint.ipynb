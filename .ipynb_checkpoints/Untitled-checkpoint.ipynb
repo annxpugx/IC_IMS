{
 "cells": [
  {
   "cell_type": "code",
   "execution_count": 1,
   "id": "1287f32b",
   "metadata": {},
   "outputs": [],
   "source": [
    "import torch"
   ]
  },
  {
   "cell_type": "code",
   "execution_count": null,
   "id": "1cb7dd3c",
   "metadata": {},
   "outputs": [],
   "source": [
    "model = torch.load('dump/weights_model_6daa27d7.pth')\n",
    "print(model)"
   ]
  }
 ],
 "metadata": {
  "kernelspec": {
   "display_name": "Python 3",
   "language": "python",
   "name": "python3"
  },
  "language_info": {
   "codemirror_mode": {
    "name": "ipython",
    "version": 3
   },
   "file_extension": ".py",
   "mimetype": "text/x-python",
   "name": "python",
   "nbconvert_exporter": "python",
   "pygments_lexer": "ipython3",
   "version": "3.9.6"
  }
 },
 "nbformat": 4,
 "nbformat_minor": 5
}
